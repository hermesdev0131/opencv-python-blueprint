{
 "cells": [
  {
   "cell_type": "code",
   "execution_count": 3,
   "metadata": {
    "collapsed": false
   },
   "outputs": [
    {
     "ename": "ImportError",
     "evalue": "cannot import name clock",
     "output_type": "error",
     "traceback": [
      "\u001b[0;31m---------------------------------------------------------------------------\u001b[0m",
      "\u001b[0;31mImportError\u001b[0m                               Traceback (most recent call last)",
      "\u001b[0;32m<ipython-input-3-34d264c23095>\u001b[0m in \u001b[0;36m<module>\u001b[0;34m()\u001b[0m\n\u001b[1;32m      9\u001b[0m \u001b[0;34m\u001b[0m\u001b[0m\n\u001b[1;32m     10\u001b[0m \u001b[0;31m# local modules\u001b[0m\u001b[0;34m\u001b[0m\u001b[0;34m\u001b[0m\u001b[0m\n\u001b[0;32m---> 11\u001b[0;31m \u001b[0;32mfrom\u001b[0m \u001b[0mcommon\u001b[0m \u001b[0;32mimport\u001b[0m \u001b[0mclock\u001b[0m\u001b[0;34m,\u001b[0m \u001b[0mmosaic\u001b[0m\u001b[0;34m\u001b[0m\u001b[0m\n\u001b[0m\u001b[1;32m     12\u001b[0m \u001b[0;34m\u001b[0m\u001b[0m\n\u001b[1;32m     13\u001b[0m \u001b[0;32mdef\u001b[0m \u001b[0msplit2d\u001b[0m\u001b[0;34m(\u001b[0m\u001b[0mimg\u001b[0m\u001b[0;34m,\u001b[0m \u001b[0mcell_size\u001b[0m\u001b[0;34m,\u001b[0m \u001b[0mflatten\u001b[0m\u001b[0;34m=\u001b[0m\u001b[0mTrue\u001b[0m\u001b[0;34m)\u001b[0m\u001b[0;34m:\u001b[0m\u001b[0;34m\u001b[0m\u001b[0m\n",
      "\u001b[0;31mImportError\u001b[0m: cannot import name clock"
     ]
    }
   ],
   "source": [
    "#!/usr/bin/env python\n",
    "\n",
    "import cv2\n",
    "\n",
    "import numpy as np\n",
    "\n",
    "SZ = 20\n",
    "CLASS_N = 10\n",
    "\n",
    "# local modules\n",
    "from common import clock, mosaic\n",
    "\n",
    "def split2d(img, cell_size, flatten=True):\n",
    "    h, w = img.shape[:2]\n",
    "    sx, sy = cell_size\n",
    "    cells = [np.hsplit(row, w//sx) for row in np.vsplit(img, h//sy)]\n",
    "    cells = np.array(cells)\n",
    "    if flatten:\n",
    "        cells = cells.reshape(-1, sy, sx)\n",
    "    return cells"
   ]
  },
  {
   "cell_type": "code",
   "execution_count": 2,
   "metadata": {
    "collapsed": false
   },
   "outputs": [
    {
     "name": "stdout",
     "output_type": "stream",
     "text": [
      "Untitled.ipynb             digits-classification.jpg\r\n",
      "common.py                  digits.png\r\n",
      "common.pyc\r\n"
     ]
    }
   ],
   "source": [
    "ls"
   ]
  },
  {
   "cell_type": "code",
   "execution_count": null,
   "metadata": {
    "collapsed": true
   },
   "outputs": [],
   "source": []
  },
  {
   "cell_type": "code",
   "execution_count": null,
   "metadata": {
    "collapsed": true
   },
   "outputs": [],
   "source": [
    "\n",
    "def load_digits(fn):\n",
    "    digits_img = cv2.imread(fn, 0)\n",
    "    digits = split2d(digits_img, (SZ, SZ))\n",
    "    labels = np.repeat(np.arange(CLASS_N), len(digits)/CLASS_N)\n",
    "    return digits, labels\n",
    "\n",
    "def deskew(img):\n",
    "    m = cv2.moments(img)\n",
    "    if abs(m['mu02']) < 1e-2:\n",
    "        return img.copy()\n",
    "    skew = m['mu11']/m['mu02']\n",
    "    M = np.float32([[1, skew, -0.5*SZ*skew], [0, 1, 0]])\n",
    "    img = cv2.warpAffine(img, M, (SZ, SZ), flags=cv2.WARP_INVERSE_MAP | cv2.INTER_LINEAR)\n",
    "    return img\n",
    "\n",
    "def svmInit(C=12.5, gamma=0.50625):\n",
    "  model = cv2.ml.SVM_create()\n",
    "  model.setGamma(gamma)\n",
    "  model.setC(C)\n",
    "  model.setKernel(cv2.ml.SVM_RBF)\n",
    "  model.setType(cv2.ml.SVM_C_SVC)\n",
    "  \n",
    "  return model\n",
    "\n",
    "def svmTrain(model, samples, responses):\n",
    "  model.train(samples, cv2.ml.ROW_SAMPLE, responses)\n",
    "  return model\n",
    "\n",
    "def svmPredict(model, samples):\n",
    "  return model.predict(samples)[1].ravel()\n",
    "\n",
    "def svmEvaluate(model, digits, samples, labels):\n",
    "    predictions = svmPredict(model, samples)\n",
    "    accuracy = (labels == predictions).mean()\n",
    "    print('Percentage Accuracy: %.2f %%' % (accuracy*100))\n",
    "\n",
    "    confusion = np.zeros((10, 10), np.int32)\n",
    "    for i, j in zip(labels, predictions):\n",
    "        confusion[int(i), int(j)] += 1\n",
    "    print('confusion matrix:')\n",
    "    print(confusion)\n",
    "\n",
    "    vis = []\n",
    "    for img, flag in zip(digits, predictions == labels):\n",
    "        img = cv2.cvtColor(img, cv2.COLOR_GRAY2BGR)\n",
    "        if not flag:\n",
    "            img[...,:2] = 0\n",
    "        \n",
    "        vis.append(img)\n",
    "    return mosaic(25, vis)\n",
    "\n",
    "\n",
    "def preprocess_simple(digits):\n",
    "    return np.float32(digits).reshape(-1, SZ*SZ) / 255.0\n",
    "\n",
    "\n",
    "def get_hog() : \n",
    "    winSize = (20,20)\n",
    "    blockSize = (8,8)\n",
    "    blockStride = (4,4)\n",
    "    cellSize = (8,8)\n",
    "    nbins = 9\n",
    "    derivAperture = 1\n",
    "    winSigma = -1.\n",
    "    histogramNormType = 0\n",
    "    L2HysThreshold = 0.2\n",
    "    gammaCorrection = 1\n",
    "    nlevels = 64\n",
    "    signedGradient = True\n",
    "\n",
    "    hog = cv2.HOGDescriptor(winSize,blockSize,blockStride,cellSize,nbins,derivAperture,winSigma,histogramNormType,L2HysThreshold,gammaCorrection,nlevels, signedGradient)\n",
    "\n",
    "    return hog\n",
    "    affine_flags = cv2.WARP_INVERSE_MAP|cv2.INTER_LINEAR\n",
    "\n",
    "\n",
    "\n",
    "if __name__ == '__main__':\n",
    "\n",
    "    print('Loading digits from digits.png ... ')\n",
    "    # Load data.\n",
    "    digits, labels = load_digits('digits.png')\n",
    "\n",
    "    print('Shuffle data ... ')\n",
    "    # Shuffle data\n",
    "    rand = np.random.RandomState(10)\n",
    "    shuffle = rand.permutation(len(digits))\n",
    "    digits, labels = digits[shuffle], labels[shuffle]\n",
    "    \n",
    "    print('Deskew images ... ')\n",
    "    digits_deskewed = list(map(deskew, digits))\n",
    "    \n",
    "    print('Defining HoG parameters ...')\n",
    "    # HoG feature descriptor\n",
    "    hog = get_hog();\n",
    "\n",
    "    print('Calculating HoG descriptor for every image ... ')\n",
    "    hog_descriptors = []\n",
    "    for img in digits_deskewed:\n",
    "        hog_descriptors.append(hog.compute(img))\n",
    "    hog_descriptors = np.squeeze(hog_descriptors)\n",
    "\n",
    "    print('Spliting data into training (90%) and test set (10%)... ')\n",
    "    train_n=int(0.9*len(hog_descriptors))\n",
    "    digits_train, digits_test = np.split(digits_deskewed, [train_n])\n",
    "    hog_descriptors_train, hog_descriptors_test = np.split(hog_descriptors, [train_n])\n",
    "    labels_train, labels_test = np.split(labels, [train_n])\n",
    "    \n",
    "    \n",
    "    print('Training SVM model ...')\n",
    "    model = svmInit()\n",
    "    svmTrain(model, hog_descriptors_train, labels_train)\n",
    "\n",
    "    print('Evaluating model ... ')\n",
    "    vis = svmEvaluate(model, digits_test, hog_descriptors_test, labels_test)\n",
    "\n",
    "    cv2.imwrite(\"digits-classification.jpg\",vis)\n",
    "    cv2.imshow(\"Vis\", vis)\n",
    "\n",
    "    cv2.waitKey(0)\n",
    "    cv2.destroyAllWindows()\n"
   ]
  }
 ],
 "metadata": {
  "kernelspec": {
   "display_name": "Python 2",
   "language": "python",
   "name": "python2"
  },
  "language_info": {
   "codemirror_mode": {
    "name": "ipython",
    "version": 2
   },
   "file_extension": ".py",
   "mimetype": "text/x-python",
   "name": "python",
   "nbconvert_exporter": "python",
   "pygments_lexer": "ipython2",
   "version": "2.7.15"
  }
 },
 "nbformat": 4,
 "nbformat_minor": 0
}
