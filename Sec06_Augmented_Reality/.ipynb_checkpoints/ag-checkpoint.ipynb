{
 "cells": [
  {
   "cell_type": "markdown",
   "metadata": {},
   "source": [
    "## Mini Project # 8  – Yawn Detector and Counting"
   ]
  },
  {
   "cell_type": "code",
   "execution_count": 3,
   "metadata": {
    "collapsed": false
   },
   "outputs": [
    {
     "ename": "IndexError",
     "evalue": "list index out of range",
     "output_type": "error",
     "traceback": [
      "\u001b[0;31m---------------------------------------------------------------------------\u001b[0m",
      "\u001b[0;31mIndexError\u001b[0m                                Traceback (most recent call last)",
      "\u001b[0;32m<ipython-input-3-0a36ca65aaec>\u001b[0m in \u001b[0;36m<module>\u001b[0;34m()\u001b[0m\n\u001b[1;32m     16\u001b[0m \u001b[0mcurrentImage\u001b[0m\u001b[0;34m=\u001b[0m\u001b[0;36m0\u001b[0m  \u001b[0;31m#the first image is selected\u001b[0m\u001b[0;34m\u001b[0m\u001b[0m\n\u001b[1;32m     17\u001b[0m \u001b[0;34m\u001b[0m\u001b[0m\n\u001b[0;32m---> 18\u001b[0;31m \u001b[0mreplaceImg\u001b[0m\u001b[0;34m=\u001b[0m\u001b[0mcv2\u001b[0m\u001b[0;34m.\u001b[0m\u001b[0mimread\u001b[0m\u001b[0;34m(\u001b[0m\u001b[0mimages\u001b[0m\u001b[0;34m[\u001b[0m\u001b[0mcurrentImage\u001b[0m\u001b[0;34m]\u001b[0m\u001b[0;34m)\u001b[0m\u001b[0;34m\u001b[0m\u001b[0m\n\u001b[0m\u001b[1;32m     19\u001b[0m \u001b[0mrows\u001b[0m\u001b[0;34m,\u001b[0m\u001b[0mcols\u001b[0m\u001b[0;34m,\u001b[0m\u001b[0mch\u001b[0m \u001b[0;34m=\u001b[0m \u001b[0mreplaceImg\u001b[0m\u001b[0;34m.\u001b[0m\u001b[0mshape\u001b[0m\u001b[0;34m\u001b[0m\u001b[0m\n\u001b[1;32m     20\u001b[0m \u001b[0mpts1\u001b[0m \u001b[0;34m=\u001b[0m \u001b[0mnp\u001b[0m\u001b[0;34m.\u001b[0m\u001b[0mfloat32\u001b[0m\u001b[0;34m(\u001b[0m\u001b[0;34m[\u001b[0m\u001b[0;34m[\u001b[0m\u001b[0;36m0\u001b[0m\u001b[0;34m,\u001b[0m\u001b[0;36m0\u001b[0m\u001b[0;34m]\u001b[0m\u001b[0;34m,\u001b[0m\u001b[0;34m[\u001b[0m\u001b[0mcols\u001b[0m\u001b[0;34m,\u001b[0m\u001b[0;36m0\u001b[0m\u001b[0;34m]\u001b[0m\u001b[0;34m,\u001b[0m\u001b[0;34m[\u001b[0m\u001b[0mcols\u001b[0m\u001b[0;34m,\u001b[0m\u001b[0mrows\u001b[0m\u001b[0;34m]\u001b[0m\u001b[0;34m,\u001b[0m\u001b[0;34m[\u001b[0m\u001b[0;36m0\u001b[0m\u001b[0;34m,\u001b[0m\u001b[0mrows\u001b[0m\u001b[0;34m]\u001b[0m\u001b[0;34m]\u001b[0m\u001b[0;34m)\u001b[0m    \u001b[0;31m#this points are necesary for the transformation\u001b[0m\u001b[0;34m\u001b[0m\u001b[0m\n",
      "\u001b[0;31mIndexError\u001b[0m: list index out of range"
     ]
    }
   ],
   "source": [
    "# -*- coding: utf-8 -*-\n",
    "\"\"\"\n",
    "Created on Fri Nov 07 12:29:37 2014\n",
    "\n",
    "@author: Guillermo\n",
    "http://docs.opencv.org/trunk/doc/py_tutorials/py_core/py_image_arithmetics/py_image_arithmetics.html\n",
    "\"\"\"\n",
    "\n",
    "import numpy as np\n",
    "import cv2\n",
    "import glob\n",
    "\n",
    "cap = cv2.VideoCapture(0)\n",
    "\n",
    "images = glob.glob('*.JPG') #all the jpg images in the folder could be displayed\n",
    "currentImage=0  #the first image is selected\n",
    "\n",
    "replaceImg=cv2.imread(images[currentImage])\n",
    "rows,cols,ch = replaceImg.shape\n",
    "pts1 = np.float32([[0,0],[cols,0],[cols,rows],[0,rows]])    #this points are necesary for the transformation\n",
    "\n",
    "zoomLevel = 0   #when zoomLevel is positive it zooms in, when its negative it zooms out\n",
    "processing = True   #boolean variable using for disabling the image processing\n",
    "maskThreshold=10\n",
    "\n",
    "while(True):\n",
    "    # Capture frame-by-frame\n",
    "    ret, img = cap.read()\n",
    "    # Our operations on the frame come here\n",
    "    gray = cv2.cvtColor(img, cv2.COLOR_BGR2GRAY)\n",
    "    #This function is used to detect the corners of the chessboard, 9x6 is the number of corners to find\n",
    "    ret, corners = cv2.findChessboardCorners(gray, (9,6),None)\n",
    "\n",
    "    # If found, do the processing\n",
    "    if ret == True and processing:\n",
    "        #pts2 is used for defining the perspective transform\n",
    "        pts2 = np.float32([corners[0,0],corners[8,0],corners[len(corners)-1,0],corners[len(corners)-9,0]])\n",
    "        #compute the transform matrix\n",
    "        M = cv2.getPerspectiveTransform(pts1,pts2)\n",
    "        rows,cols,ch = img.shape\n",
    "        #make the perspective change in a image of the size of the camera input\n",
    "        dst = cv2.warpPerspective(replaceImg,M,(cols,rows))\n",
    "        #A mask is created for adding the two images\n",
    "        #maskThreshold is a variable because that allows to substract the black background from different images\n",
    "        ret, mask = cv2.threshold(cv2.cvtColor(dst, cv2.COLOR_BGR2GRAY),maskThreshold, 1, cv2.THRESH_BINARY_INV)     \n",
    "        #Erode and dilate are used to delete the noise\n",
    "        mask = cv2.erode(mask,(3,3))\n",
    "        mask = cv2.dilate(mask,(3,3))         \n",
    "        #The two images are added using the mask\n",
    "        for c in range(0,3):\n",
    "            img[:, :, c] = dst[:,:,c]*(1-mask[:,:]) + img[:,:,c]*mask[:,:]\n",
    "#        cv2.imshow('mask',mask*255)\n",
    "     #finally the result is presented\n",
    "    cv2.imshow('img',img)  \n",
    "    \n",
    "    #Wait for the key \n",
    "    key = cv2.waitKey(1)\n",
    "#    print key\n",
    "    #decide the action based on the key value (quit, zoom, change image)\n",
    "    if key == ord('q'): # quit\n",
    "        print 'Quit'\n",
    "        break\n",
    "    if key == ord('p'): # processing\n",
    "        processing = not processing\n",
    "        if processing: \n",
    "            print 'Activated image processing'\n",
    "        else: \n",
    "            print 'Desactivated image processing'\n",
    "    if key == 43: # + zoom in\n",
    "        zoomLevel=zoomLevel+0.05\n",
    "        rows,cols,ch = replaceImg.shape\n",
    "        pts1 = np.float32([[0,0],[cols,0],[cols,rows],[0,rows]])\n",
    "        pts1 = pts1 + np.float32([[zoomLevel*cols,zoomLevel*rows],[-zoomLevel*cols,zoomLevel*rows],[-zoomLevel*cols,-zoomLevel*rows],[zoomLevel*cols,-zoomLevel*rows]])\n",
    "        print 'Zoom in'\n",
    "    if key == 45: # - zoom out\n",
    "        zoomLevel=zoomLevel-0.05\n",
    "        rows,cols,ch = replaceImg.shape\n",
    "        pts1 = np.float32([[0,0],[cols,0],[cols,rows],[0,rows]])\n",
    "        pts1 = pts1 + np.float32([[zoomLevel*cols,zoomLevel*rows],[-zoomLevel*cols,zoomLevel*rows],[-zoomLevel*cols,-zoomLevel*rows],[zoomLevel*cols,-zoomLevel*rows]])\n",
    "        print 'Zoom in'\n",
    "        print 'Zoom out'\n",
    "    if key == 2555904: # -> next image\n",
    "        if currentImage<len(images)-1:\n",
    "            currentImage=currentImage+1\n",
    "            replaceImg=cv2.imread(images[currentImage])\n",
    "            rows,cols,ch = replaceImg.shape\n",
    "            pts1 = np.float32([[0,0],[cols,0],[cols,rows],[0,rows]])\n",
    "            pts1 = pts1 + np.float32([[zoomLevel*cols,zoomLevel*rows],[-zoomLevel*cols,zoomLevel*rows],[-zoomLevel*cols,-zoomLevel*rows],[zoomLevel*cols,-zoomLevel*rows]])\n",
    "            print 'Next image'\n",
    "        else:\n",
    "            print 'No more images on the right'\n",
    "    if key == 2424832: # <- previous image\n",
    "        if currentImage>0:\n",
    "            currentImage=currentImage-1\n",
    "            replaceImg=cv2.imread(images[currentImage])\n",
    "            rows,cols,ch = replaceImg.shape\n",
    "            pts1 = np.float32([[0,0],[cols,0],[cols,rows],[0,rows]])\n",
    "            pts1 = pts1 + np.float32([[zoomLevel*cols,zoomLevel*rows],[-zoomLevel*cols,zoomLevel*rows],[-zoomLevel*cols,-zoomLevel*rows],[zoomLevel*cols,-zoomLevel*rows]])\n",
    "\n",
    "            print 'Previous image'\n",
    "        else:\n",
    "            print 'No more images on the left'\n",
    "            \n",
    "    if key == 2490368: # increase threshold\n",
    "        if maskThreshold<255:\n",
    "            maskThreshold=maskThreshold+1\n",
    "            print 'Increase Mask Threshold'\n",
    "        else:\n",
    "            print 'Mask Threshold at the maximun value'\n",
    "    if key == 2621440: # decrease threshold\n",
    "        if maskThreshold>0:\n",
    "            maskThreshold=maskThreshold-1\n",
    "            print 'Decrease Mask Threshold'\n",
    "        else:\n",
    "            print 'Mask Threshold at the minimun value'\n",
    "\n",
    "# When everything done, release the capture\n",
    "cap.release()\n",
    "cv2.destroyAllWindows()"
   ]
  },
  {
   "cell_type": "code",
   "execution_count": 1,
   "metadata": {
    "collapsed": false
   },
   "outputs": [
    {
     "name": "stderr",
     "output_type": "stream",
     "text": [
      "C:\\Anaconda2\\lib\\site-packages\\ipykernel\\__main__.py:57: FutureWarning: elementwise comparison failed; returning scalar instead, but in the future will perform elementwise comparison\n"
     ]
    }
   ],
   "source": []
  }
 ],
 "metadata": {
  "kernelspec": {
   "display_name": "Python 2",
   "language": "python",
   "name": "python2"
  },
  "language_info": {
   "codemirror_mode": {
    "name": "ipython",
    "version": 2
   },
   "file_extension": ".py",
   "mimetype": "text/x-python",
   "name": "python",
   "nbconvert_exporter": "python",
   "pygments_lexer": "ipython2",
   "version": "2.7.15"
  }
 },
 "nbformat": 4,
 "nbformat_minor": 0
}
