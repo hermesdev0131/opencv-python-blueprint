{
 "cells": [
  {
   "cell_type": "code",
   "execution_count": 1,
   "metadata": {
    "collapsed": true
   },
   "outputs": [],
   "source": [
    "import sys"
   ]
  },
  {
   "cell_type": "code",
   "execution_count": 2,
   "metadata": {
    "collapsed": false
   },
   "outputs": [
    {
     "data": {
      "text/plain": [
       "['',\n",
       " '/Users/user/anaconda/lib/python36.zip',\n",
       " '/Users/user/anaconda/lib/python3.6',\n",
       " '/Users/user/anaconda/lib/python3.6/lib-dynload',\n",
       " '/Users/user/anaconda/lib/python3.6/site-packages',\n",
       " '/Users/user/anaconda/lib/python3.6/site-packages/Sphinx-1.5.1-py3.6.egg',\n",
       " '/Users/user/anaconda/lib/python3.6/site-packages/aeosa',\n",
       " '/Users/user/anaconda/lib/python3.6/site-packages/tf_cnnvis-1.0.0-py3.6.egg',\n",
       " '/Users/user/anaconda/lib/python3.6/site-packages/gensim-3.4.0-py3.6-macosx-10.7-x86_64.egg',\n",
       " '/Users/user/anaconda/lib/python3.6/site-packages/smart_open-1.5.7-py3.6.egg',\n",
       " '/Users/user/anaconda/lib/python3.6/site-packages/boto3-1.6.21-py3.6.egg',\n",
       " '/Users/user/anaconda/lib/python3.6/site-packages/s3transfer-0.1.13-py3.6.egg',\n",
       " '/Users/user/anaconda/lib/python3.6/site-packages/botocore-1.9.21-py3.6.egg',\n",
       " '/Users/user/anaconda/lib/python3.6/site-packages/torchvision-0.2.0-py3.6.egg',\n",
       " '/Users/user/anaconda/lib/python3.6/site-packages/IPython/extensions',\n",
       " '/Users/user/.ipython']"
      ]
     },
     "execution_count": 2,
     "metadata": {},
     "output_type": "execute_result"
    }
   ],
   "source": [
    "sys.path"
   ]
  },
  {
   "cell_type": "code",
   "execution_count": 3,
   "metadata": {
    "collapsed": true
   },
   "outputs": [],
   "source": [
    "sys.path.append('maskrcnn/mrcnn/')"
   ]
  },
  {
   "cell_type": "code",
   "execution_count": 4,
   "metadata": {
    "collapsed": false
   },
   "outputs": [
    {
     "data": {
      "text/plain": [
       "['',\n",
       " '/Users/user/anaconda/lib/python36.zip',\n",
       " '/Users/user/anaconda/lib/python3.6',\n",
       " '/Users/user/anaconda/lib/python3.6/lib-dynload',\n",
       " '/Users/user/anaconda/lib/python3.6/site-packages',\n",
       " '/Users/user/anaconda/lib/python3.6/site-packages/Sphinx-1.5.1-py3.6.egg',\n",
       " '/Users/user/anaconda/lib/python3.6/site-packages/aeosa',\n",
       " '/Users/user/anaconda/lib/python3.6/site-packages/tf_cnnvis-1.0.0-py3.6.egg',\n",
       " '/Users/user/anaconda/lib/python3.6/site-packages/gensim-3.4.0-py3.6-macosx-10.7-x86_64.egg',\n",
       " '/Users/user/anaconda/lib/python3.6/site-packages/smart_open-1.5.7-py3.6.egg',\n",
       " '/Users/user/anaconda/lib/python3.6/site-packages/boto3-1.6.21-py3.6.egg',\n",
       " '/Users/user/anaconda/lib/python3.6/site-packages/s3transfer-0.1.13-py3.6.egg',\n",
       " '/Users/user/anaconda/lib/python3.6/site-packages/botocore-1.9.21-py3.6.egg',\n",
       " '/Users/user/anaconda/lib/python3.6/site-packages/torchvision-0.2.0-py3.6.egg',\n",
       " '/Users/user/anaconda/lib/python3.6/site-packages/IPython/extensions',\n",
       " '/Users/user/.ipython',\n",
       " 'maskrcnn/mrcnn/']"
      ]
     },
     "execution_count": 4,
     "metadata": {},
     "output_type": "execute_result"
    }
   ],
   "source": [
    "sys.path"
   ]
  },
  {
   "cell_type": "code",
   "execution_count": null,
   "metadata": {
    "collapsed": true
   },
   "outputs": [],
   "source": []
  }
 ],
 "metadata": {
  "kernelspec": {
   "display_name": "Python 3",
   "language": "python",
   "name": "python3"
  },
  "language_info": {
   "codemirror_mode": {
    "name": "ipython",
    "version": 3
   },
   "file_extension": ".py",
   "mimetype": "text/x-python",
   "name": "python",
   "nbconvert_exporter": "python",
   "pygments_lexer": "ipython3",
   "version": "3.6.0"
  }
 },
 "nbformat": 4,
 "nbformat_minor": 2
}
