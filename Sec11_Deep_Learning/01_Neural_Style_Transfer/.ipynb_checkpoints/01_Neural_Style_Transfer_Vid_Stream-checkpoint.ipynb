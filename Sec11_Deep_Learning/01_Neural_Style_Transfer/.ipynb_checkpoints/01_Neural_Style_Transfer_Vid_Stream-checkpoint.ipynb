{
 "cells": [
  {
   "cell_type": "code",
   "execution_count": null,
   "metadata": {
    "collapsed": true
   },
   "outputs": [],
   "source": [
    "def predict(img, h, w):\n",
    "    blob = cv.dnn.blobFromImage(img, 1.0, (w, h),\n",
    "        (103.939, 116.779, 123.680), swapRB=False, crop=False)\n",
    "\n",
    "    print ('[INFO] Setting the input to the model')\n",
    "    net.setInput(blob)\n",
    "\n",
    "    print ('[INFO] Starting Inference!')\n",
    "    start = time.time()\n",
    "    out = net.forward()\n",
    "    end = time.time()\n",
    "    print ('[INFO] Inference Completed successfully!')\n",
    "\n",
    "    # Reshape the output tensor and add back in the mean subtraction, and\n",
    "    # then swap the channel ordering\n",
    "    out = out.reshape((3, out.shape[2], out.shape[3]))\n",
    "    out[0] += 103.939\n",
    "    out[1] += 116.779\n",
    "    out[2] += 123.680\n",
    "    out /= 255.0\n",
    "    out = out.transpose(1, 2, 0)\n",
    "\n",
    "    # Printing the inference time\n",
    "    if FLAGS.print_inference_time:\n",
    "        print ('[INFO] The model ran in {:.4f} seconds'.format(end-start))\n",
    "\n",
    "    return out"
   ]
  },
  {
   "cell_type": "code",
   "execution_count": null,
   "metadata": {
    "collapsed": true
   },
   "outputs": [],
   "source": []
  }
 ],
 "metadata": {
  "kernelspec": {
   "display_name": "Python 2",
   "language": "python",
   "name": "python2"
  },
  "language_info": {
   "codemirror_mode": {
    "name": "ipython",
    "version": 2
   },
   "file_extension": ".py",
   "mimetype": "text/x-python",
   "name": "python",
   "nbconvert_exporter": "python",
   "pygments_lexer": "ipython2",
   "version": "2.7.15"
  }
 },
 "nbformat": 4,
 "nbformat_minor": 0
}
